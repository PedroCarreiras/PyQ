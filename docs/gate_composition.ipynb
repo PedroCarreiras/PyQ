{
 "cells": [
  {
   "attachments": {},
   "cell_type": "markdown",
   "metadata": {},
   "source": [
    "# Arbitrary Gate Composition\n",
    "\n",
    "To create new arbitrary gates, one need only multiply two gates together, as per the following examples."
   ]
  },
  {
   "cell_type": "code",
   "execution_count": 1,
   "metadata": {},
   "outputs": [],
   "source": [
    "from pyqtorch import RY, RZ, U, torch\n",
    "from pyqtorch.modules import zero_state\n",
    "from torch import pi, tensor"
   ]
  },
  {
   "cell_type": "code",
   "execution_count": 2,
   "metadata": {},
   "outputs": [
    {
     "name": "stdout",
     "output_type": "stream",
     "text": [
      "State([[0.6182-0.6866j],\n",
      "       [0.3743-0.0796j]], dtype=torch.complex128)\n",
      "State([[0.6182-0.6866j],\n",
      "       [0.3743-0.0796j]], dtype=torch.complex128)\n"
     ]
    }
   ],
   "source": [
    "phi = tensor(pi/3, dtype=torch.double)\n",
    "theta = tensor(pi/4, dtype=torch.double)\n",
    "omega = tensor(pi/5, dtype=torch.double)\n",
    "\n",
    "state = zero_state(1)\n",
    "qubits = [0]\n",
    "\n",
    "arbitrary_composed_gate = RZ(omega, state, qubits, 1) @ RY(theta, state, qubits, 1) @ RZ(phi, state, qubits, 1)\n",
    "arbitrary_gate = U(phi, theta, omega, state, qubits, 1)\n",
    "\n",
    "print(arbitrary_composed_gate)\n",
    "print(arbitrary_gate)"
   ]
  }
 ],
 "metadata": {
  "kernelspec": {
   "display_name": "Python 3",
   "language": "python",
   "name": "python3"
  },
  "language_info": {
   "codemirror_mode": {
    "name": "ipython",
    "version": 3
   },
   "file_extension": ".py",
   "mimetype": "text/x-python",
   "name": "python",
   "nbconvert_exporter": "python",
   "pygments_lexer": "ipython3",
   "version": "3.8.1"
  },
  "orig_nbformat": 4
 },
 "nbformat": 4,
 "nbformat_minor": 2
}
