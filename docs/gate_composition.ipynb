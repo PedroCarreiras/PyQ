{
 "cells": [
  {
   "attachments": {},
   "cell_type": "markdown",
   "metadata": {},
   "source": [
    "# Arbitrary Gate Composition\n",
    "\n",
    "This notebook is under development as is the relevant functionality.\n",
    "\n",
    "To create new arbitrary gates, one need only multiply two gates together, as per the following example.\n",
    "\n",
    "The ability to compose two arbitrary gates (other than the pauli matrices) is yet to be implemented."
   ]
  },
  {
   "cell_type": "code",
   "execution_count": 4,
   "metadata": {},
   "outputs": [
    {
     "name": "stdout",
     "output_type": "stream",
     "text": [
      "qubits=[0], n_qubits=1\n",
      "tensor([[0.+0.j, 0.-1.j],\n",
      "        [0.+1.j, 0.+0.j]], dtype=torch.complex128)\n"
     ]
    }
   ],
   "source": [
    "from pyqtorch.modules import RX, RY\n",
    "\n",
    "gateA = RX(qubits=[0], n_qubits=1)\n",
    "gateB = RY(qubits=[0], n_qubits=1)\n",
    "gateC = gateA*gateB\n",
    "\n",
    "print(gateC.extra_repr())\n",
    "print(gateC.mat)"
   ]
  }
 ],
 "metadata": {
  "kernelspec": {
   "display_name": "Python 3",
   "language": "python",
   "name": "python3"
  },
  "language_info": {
   "codemirror_mode": {
    "name": "ipython",
    "version": 3
   },
   "file_extension": ".py",
   "mimetype": "text/x-python",
   "name": "python",
   "nbconvert_exporter": "python",
   "pygments_lexer": "ipython3",
   "version": "3.8.1"
  },
  "orig_nbformat": 4
 },
 "nbformat": 4,
 "nbformat_minor": 2
}
